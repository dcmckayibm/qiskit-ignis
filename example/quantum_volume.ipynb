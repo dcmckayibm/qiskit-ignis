{
 "cells": [
  {
   "cell_type": "markdown",
   "metadata": {},
   "source": [
    "<img src=\"../../images/qiskit-heading.gif\" alt=\"Note: In order for images to show up in this jupyter notebook you need to select File => Trusted Notebook\" width=\"500 px\\\" align=\"left\">"
   ]
  },
  {
   "cell_type": "markdown",
   "metadata": {},
   "source": [
    "## Quantum Volume\n",
    "---\n",
    "\n",
    "* **Last Updated:** May 31, 2019\n",
    "* **Requires:** qiskit-terra 0.8, qiskit-ignis 0.1.1, qiskit-aer 0.2\n",
    "\n",
    "\n",
    "## Introduction\n",
    "\n",
    "**Quantum Volume (QV)** is a method to verify device performance and a metric to quantify the computational power of a quantum device.  The method is based on the paper \"Validating quantum computers using randomized model circuits\" (https://arxiv.org/abs/1811.12926). \n",
    "\n",
    "This notebook gives an example for how to use the ``ignis.verification.quantum_volume`` module. This particular example shows how to run up to depth 6 quantum volume circuits and will run them using the noisy Aer simulator."
   ]
  },
  {
   "cell_type": "code",
   "execution_count": 1,
   "metadata": {},
   "outputs": [],
   "source": [
    "#Import general libraries (needed for functions)\n",
    "import numpy as np\n",
    "import matplotlib.pyplot as plt\n",
    "from IPython import display\n",
    "\n",
    "#Import Qiskit classes classes\n",
    "import qiskit\n",
    "import qiskit.providers.aer.noise as noise\n",
    "from qiskit.transpiler.coupling import CouplingMap\n",
    "\n",
    "#Import the qv function.\n",
    "import qiskit.ignis.verification.quantum_volume as qv"
   ]
  },
  {
   "cell_type": "markdown",
   "metadata": {},
   "source": [
    "### Load IBMQ accounts and grab target device backend\n",
    "\n",
    "To illustrate QV we will use a real backend for transpiling"
   ]
  },
  {
   "cell_type": "code",
   "execution_count": 2,
   "metadata": {},
   "outputs": [
    {
     "name": "stdout",
     "output_type": "stream",
     "text": [
      "Device has: 14 qubits\n"
     ]
    }
   ],
   "source": [
    "qiskit.IBMQ.load_accounts()\n",
    "backend = qiskit.IBMQ.get_backend('ibmq_16_melbourne')\n",
    "print('Device has:', backend.configuration().n_qubits, 'qubits')"
   ]
  },
  {
   "cell_type": "markdown",
   "metadata": {},
   "source": [
    "## Select the Parameters of the QV Run\n",
    "\n",
    "There are two ways to generate volume circuits. Option 1 is to specify explicit sets of qubits. The other way is to specify a list of widths. This will create circuits on the first `n` qubits which we will then map to the qubits of choice.\n",
    "\n",
    "In this example we have 6 qubits Q4,Q5,Q6,Q10,Q8,Q9. We are going to look at subsets up to the full set."
   ]
  },
  {
   "cell_type": "code",
   "execution_count": 3,
   "metadata": {},
   "outputs": [],
   "source": [
    "#Qubit list\n",
    "qubit_lists = [[4,5],[4,5,6],[4,5,6,10],[4,5,6,10,8],[4,5,6,10,8,9]]\n",
    "width_list = [2,3,4,5,6]\n",
    "ntrials = 50\n",
    "\n",
    "#select which option to use for the actual simulation\n",
    "qv_opt=1"
   ]
  },
  {
   "cell_type": "markdown",
   "metadata": {},
   "source": [
    "## Generate QV sequences\n",
    "\n",
    "We generate the quantum volume sequences. We will look at both ways for generating the circuits. "
   ]
  },
  {
   "cell_type": "markdown",
   "metadata": {},
   "source": [
    "### Option 1: Explictly specify Qubits"
   ]
  },
  {
   "cell_type": "code",
   "execution_count": 4,
   "metadata": {
    "scrolled": false
   },
   "outputs": [],
   "source": [
    "qv_circs, qv_circs_nomeas = qv.qv_circuits(qubit_lists=qubit_lists, ntrials=ntrials)"
   ]
  },
  {
   "cell_type": "markdown",
   "metadata": {},
   "source": [
    "Before transpiling the circuit has been created using random SU(4) unitaries on the subset defined in qubit_lists."
   ]
  },
  {
   "cell_type": "code",
   "execution_count": 5,
   "metadata": {},
   "outputs": [
    {
     "name": "stdout",
     "output_type": "stream",
     "text": [
      "                                       \n",
      "qr_0: |0>──────────────────────────────\n",
      "                                       \n",
      "qr_1: |0>──────────────────────────────\n",
      "                                       \n",
      "qr_2: |0>──────────────────────────────\n",
      "                                       \n",
      "qr_3: |0>──────────────────────────────\n",
      "         ┌──────────┐┌──────────┐┌─┐   \n",
      "qr_4: |0>┤0         ├┤1         ├┤M├───\n",
      "         │  unitary ││  unitary │└╥┘┌─┐\n",
      "qr_5: |0>┤1         ├┤0         ├─╫─┤M├\n",
      "         └──────────┘└──────────┘ ║ └╥┘\n",
      " cr_0: 0 ═════════════════════════╩══╬═\n",
      "                                     ║ \n",
      " cr_1: 0 ════════════════════════════╩═\n",
      "                                       \n"
     ]
    }
   ],
   "source": [
    "print(qv_circs[0][0])"
   ]
  },
  {
   "cell_type": "markdown",
   "metadata": {},
   "source": [
    "Transpiling will replace the random unitaries with the equivalent unitary decomposed into the standard gateset but there will be no mapping"
   ]
  },
  {
   "cell_type": "code",
   "execution_count": 6,
   "metadata": {},
   "outputs": [],
   "source": [
    "#pass the first trial of the nomeas through the transpiler to illustrate the circuit\n",
    "qv_circs[0][0] = qiskit.compiler.transpile(qv_circs[0][0], backend=backend)"
   ]
  },
  {
   "cell_type": "code",
   "execution_count": 7,
   "metadata": {},
   "outputs": [
    {
     "name": "stdout",
     "output_type": "stream",
     "text": [
      "                                                                              »\n",
      " q_0: |0>─────────────────────────────────────────────────────────────────────»\n",
      "                                                                              »\n",
      " q_1: |0>─────────────────────────────────────────────────────────────────────»\n",
      "                                                                              »\n",
      " q_2: |0>─────────────────────────────────────────────────────────────────────»\n",
      "                                                                              »\n",
      " q_3: |0>─────────────────────────────────────────────────────────────────────»\n",
      "          ┌──────────────────────────┐┌───┐┌────────────────────────────┐┌───┐»\n",
      " q_4: |0>─┤ U3(1.6669,2.1688,1.5112) ├┤ X ├┤ U3(0.51529,-3.1416,3.1416) ├┤ X ├»\n",
      "         ┌┴──────────────────────────┤└─┬─┘├───────────────────────────┬┘└─┬─┘»\n",
      " q_5: |0>┤ U3(2.265,-2.3559,-3.0502) ├──■──┤ U3(1.5708,-1.0541,4.7124) ├───■──»\n",
      "         └───────────────────────────┘     └───────────────────────────┘      »\n",
      " q_6: |0>─────────────────────────────────────────────────────────────────────»\n",
      "                                                                              »\n",
      " q_7: |0>─────────────────────────────────────────────────────────────────────»\n",
      "                                                                              »\n",
      " q_8: |0>─────────────────────────────────────────────────────────────────────»\n",
      "                                                                              »\n",
      " q_9: |0>─────────────────────────────────────────────────────────────────────»\n",
      "                                                                              »\n",
      "q_10: |0>─────────────────────────────────────────────────────────────────────»\n",
      "                                                                              »\n",
      "q_11: |0>─────────────────────────────────────────────────────────────────────»\n",
      "                                                                              »\n",
      "q_12: |0>─────────────────────────────────────────────────────────────────────»\n",
      "                                                                              »\n",
      "q_13: |0>─────────────────────────────────────────────────────────────────────»\n",
      "                                                                              »\n",
      " cr_0: 0 ═════════════════════════════════════════════════════════════════════»\n",
      "                                                                              »\n",
      " cr_1: 0 ═════════════════════════════════════════════════════════════════════»\n",
      "                                                                              »\n",
      "«                                                                   »\n",
      "« q_0: ─────────────────────────────────────────────────────────────»\n",
      "«                                                                   »\n",
      "« q_1: ─────────────────────────────────────────────────────────────»\n",
      "«                                                                   »\n",
      "« q_2: ─────────────────────────────────────────────────────────────»\n",
      "«                                                                   »\n",
      "« q_3: ─────────────────────────────────────────────────────────────»\n",
      "«      ┌────────────────────┐┌───┐ ┌──────────────────────────┐┌───┐»\n",
      "« q_4: ┤ U2(-1.7494,1.5708) ├┤ X ├─┤ U3(2.8742,3.8654,2.5489) ├┤ X ├»\n",
      "«      └──┬─────────────┬───┘└─┬─┘┌┴──────────────────────────┤└─┬─┘»\n",
      "« q_5: ───┤ U2(0,7.854) ├──────■──┤ U3(1.3232,-2.4925,1.1014) ├──■──»\n",
      "«         └─────────────┘         └───────────────────────────┘     »\n",
      "« q_6: ─────────────────────────────────────────────────────────────»\n",
      "«                                                                   »\n",
      "« q_7: ─────────────────────────────────────────────────────────────»\n",
      "«                                                                   »\n",
      "« q_8: ─────────────────────────────────────────────────────────────»\n",
      "«                                                                   »\n",
      "« q_9: ─────────────────────────────────────────────────────────────»\n",
      "«                                                                   »\n",
      "«q_10: ─────────────────────────────────────────────────────────────»\n",
      "«                                                                   »\n",
      "«q_11: ─────────────────────────────────────────────────────────────»\n",
      "«                                                                   »\n",
      "«q_12: ─────────────────────────────────────────────────────────────»\n",
      "«                                                                   »\n",
      "«q_13: ─────────────────────────────────────────────────────────────»\n",
      "«                                                                   »\n",
      "«cr_0: ═════════════════════════════════════════════════════════════»\n",
      "«                                                                   »\n",
      "«cr_1: ═════════════════════════════════════════════════════════════»\n",
      "«                                                                   »\n",
      "«                                                »\n",
      "« q_0: ──────────────────────────────────────────»\n",
      "«                                                »\n",
      "« q_1: ──────────────────────────────────────────»\n",
      "«                                                »\n",
      "« q_2: ──────────────────────────────────────────»\n",
      "«                                                »\n",
      "« q_3: ──────────────────────────────────────────»\n",
      "«           ┌──────────────────────────┐    ┌───┐»\n",
      "« q_4: ─────┤ U3(3.1177,1.5708,3.1416) ├────┤ X ├»\n",
      "«      ┌────┴──────────────────────────┴───┐└─┬─┘»\n",
      "« q_5: ┤ U3(0.67797,-3.671e-16,5.9392e-16) ├──■──»\n",
      "«      └───────────────────────────────────┘     »\n",
      "« q_6: ──────────────────────────────────────────»\n",
      "«                                                »\n",
      "« q_7: ──────────────────────────────────────────»\n",
      "«                                                »\n",
      "« q_8: ──────────────────────────────────────────»\n",
      "«                                                »\n",
      "« q_9: ──────────────────────────────────────────»\n",
      "«                                                »\n",
      "«q_10: ──────────────────────────────────────────»\n",
      "«                                                »\n",
      "«q_11: ──────────────────────────────────────────»\n",
      "«                                                »\n",
      "«q_12: ──────────────────────────────────────────»\n",
      "«                                                »\n",
      "«q_13: ──────────────────────────────────────────»\n",
      "«                                                »\n",
      "«cr_0: ══════════════════════════════════════════»\n",
      "«                                                »\n",
      "«cr_1: ══════════════════════════════════════════»\n",
      "«                                                »\n",
      "«                                                                            »\n",
      "« q_0: ──────────────────────────────────────────────────────────────────────»\n",
      "«                                                                            »\n",
      "« q_1: ──────────────────────────────────────────────────────────────────────»\n",
      "«                                                                            »\n",
      "« q_2: ──────────────────────────────────────────────────────────────────────»\n",
      "«                                                                            »\n",
      "« q_3: ──────────────────────────────────────────────────────────────────────»\n",
      "«        ┌───────────────────────────┐  ┌───┐┌───────────────────────────┐ ░ »\n",
      "« q_4: ──┤ U3(1.5708,-1.5708,3.1416) ├──┤ X ├┤ U3(1.5864,0.1347,-3.1115) ├─░─»\n",
      "«      ┌─┴───────────────────────────┴─┐└─┬─┘└┬──────────────────────────┤ ░ »\n",
      "« q_5: ┤ U3(0.37925,1.5708,1.1102e-16) ├──■───┤ U3(2.7407,1.0075,1.2389) ├─░─»\n",
      "«      └───────────────────────────────┘      └──────────────────────────┘ ░ »\n",
      "« q_6: ──────────────────────────────────────────────────────────────────────»\n",
      "«                                                                            »\n",
      "« q_7: ──────────────────────────────────────────────────────────────────────»\n",
      "«                                                                            »\n",
      "« q_8: ──────────────────────────────────────────────────────────────────────»\n",
      "«                                                                            »\n",
      "« q_9: ──────────────────────────────────────────────────────────────────────»\n",
      "«                                                                            »\n",
      "«q_10: ──────────────────────────────────────────────────────────────────────»\n",
      "«                                                                            »\n",
      "«q_11: ──────────────────────────────────────────────────────────────────────»\n",
      "«                                                                            »\n",
      "«q_12: ──────────────────────────────────────────────────────────────────────»\n",
      "«                                                                            »\n",
      "«q_13: ──────────────────────────────────────────────────────────────────────»\n",
      "«                                                                            »\n",
      "«cr_0: ══════════════════════════════════════════════════════════════════════»\n",
      "«                                                                            »\n",
      "«cr_1: ══════════════════════════════════════════════════════════════════════»\n",
      "«                                                                            »\n",
      "«            \n",
      "« q_0: ──────\n",
      "«            \n",
      "« q_1: ──────\n",
      "«            \n",
      "« q_2: ──────\n",
      "«            \n",
      "« q_3: ──────\n",
      "«      ┌─┐   \n",
      "« q_4: ┤M├───\n",
      "«      └╥┘┌─┐\n",
      "« q_5: ─╫─┤M├\n",
      "«       ║ └╥┘\n",
      "« q_6: ─╫──╫─\n",
      "«       ║  ║ \n",
      "« q_7: ─╫──╫─\n",
      "«       ║  ║ \n",
      "« q_8: ─╫──╫─\n",
      "«       ║  ║ \n",
      "« q_9: ─╫──╫─\n",
      "«       ║  ║ \n",
      "«q_10: ─╫──╫─\n",
      "«       ║  ║ \n",
      "«q_11: ─╫──╫─\n",
      "«       ║  ║ \n",
      "«q_12: ─╫──╫─\n",
      "«       ║  ║ \n",
      "«q_13: ─╫──╫─\n",
      "«       ║  ║ \n",
      "«cr_0: ═╩══╬═\n",
      "«          ║ \n",
      "«cr_1: ════╩═\n",
      "«            \n"
     ]
    }
   ],
   "source": [
    "print(qv_circs[0][0])"
   ]
  },
  {
   "cell_type": "markdown",
   "metadata": {},
   "source": [
    "### Option 2: Specify widths\n",
    "\n",
    "By specifying just the widths of the sets we get a set of more universal circuits that can be mapped to an arbitrary set of qubits"
   ]
  },
  {
   "cell_type": "code",
   "execution_count": 8,
   "metadata": {},
   "outputs": [],
   "source": [
    "qv_circs2, qv_circs_nomeas2 = qv.qv_circuits(width_list=width_list, ntrials=ntrials)"
   ]
  },
  {
   "cell_type": "markdown",
   "metadata": {},
   "source": [
    "The circuits are created on the first `n` qubits as random unitaries"
   ]
  },
  {
   "cell_type": "code",
   "execution_count": 9,
   "metadata": {},
   "outputs": [
    {
     "name": "stdout",
     "output_type": "stream",
     "text": [
      "         ┌──────────┐┌──────────┐┌─┐   \n",
      "qr_0: |0>┤1         ├┤1         ├┤M├───\n",
      "         │  unitary ││  unitary │└╥┘┌─┐\n",
      "qr_1: |0>┤0         ├┤0         ├─╫─┤M├\n",
      "         └──────────┘└──────────┘ ║ └╥┘\n",
      " cr_0: 0 ═════════════════════════╩══╬═\n",
      "                                     ║ \n",
      " cr_1: 0 ════════════════════════════╩═\n",
      "                                       \n"
     ]
    }
   ],
   "source": [
    "print(qv_circs2[0][0])"
   ]
  },
  {
   "cell_type": "markdown",
   "metadata": {},
   "source": [
    "We can then transpile these circuits to the set of qubits as desired"
   ]
  },
  {
   "cell_type": "code",
   "execution_count": 10,
   "metadata": {},
   "outputs": [],
   "source": [
    "#pass the first trial of the nomeas through the transpiler to illustrate the circuit\n",
    "qv_circs2b = qiskit.compiler.transpile(qv_circs2[0], \n",
    "                                           basis_gates=['u1','u2','u3','cx'],\n",
    "                                           backend=backend,\n",
    "                                           initial_layout=qubit_lists,optimization_level=0)"
   ]
  },
  {
   "cell_type": "code",
   "execution_count": 11,
   "metadata": {},
   "outputs": [
    {
     "name": "stdout",
     "output_type": "stream",
     "text": [
      "                ┌────────────────────────────┐┌───┐»\n",
      "      qr_0: |0>─┤ U3(1.5946,0.92599,-3.9983) ├┤ X ├»\n",
      "               ┌┴────────────────────────────┤└─┬─┘»\n",
      "      qr_1: |0>┤ U3(0.85792,-3.1215,-2.4333) ├──■──»\n",
      "               └─────────────────────────────┘     »\n",
      " ancilla_0: |0>────────────────────────────────────»\n",
      "                                                   »\n",
      " ancilla_1: |0>────────────────────────────────────»\n",
      "                                                   »\n",
      " ancilla_2: |0>────────────────────────────────────»\n",
      "                                                   »\n",
      " ancilla_3: |0>────────────────────────────────────»\n",
      "                                                   »\n",
      " ancilla_4: |0>────────────────────────────────────»\n",
      "                                                   »\n",
      " ancilla_5: |0>────────────────────────────────────»\n",
      "                                                   »\n",
      " ancilla_6: |0>────────────────────────────────────»\n",
      "                                                   »\n",
      " ancilla_7: |0>────────────────────────────────────»\n",
      "                                                   »\n",
      " ancilla_8: |0>────────────────────────────────────»\n",
      "                                                   »\n",
      " ancilla_9: |0>────────────────────────────────────»\n",
      "                                                   »\n",
      "ancilla_10: |0>────────────────────────────────────»\n",
      "                                                   »\n",
      "ancilla_11: |0>────────────────────────────────────»\n",
      "                                                   »\n",
      "       cr_0: 0 ════════════════════════════════════»\n",
      "                                                   »\n",
      "       cr_1: 0 ════════════════════════════════════»\n",
      "                                                   »\n",
      "«                ┌──────────────────────────┐   ┌───┐»\n",
      "«      qr_0: ────┤ U3(2.8354,1.5708,3.1416) ├───┤ X ├»\n",
      "«            ┌───┴──────────────────────────┴──┐└─┬─┘»\n",
      "«      qr_1: ┤ U3(1.182,-1.0546e-16,3.998e-16) ├──■──»\n",
      "«            └─────────────────────────────────┘     »\n",
      "« ancilla_0: ────────────────────────────────────────»\n",
      "«                                                    »\n",
      "« ancilla_1: ────────────────────────────────────────»\n",
      "«                                                    »\n",
      "« ancilla_2: ────────────────────────────────────────»\n",
      "«                                                    »\n",
      "« ancilla_3: ────────────────────────────────────────»\n",
      "«                                                    »\n",
      "« ancilla_4: ────────────────────────────────────────»\n",
      "«                                                    »\n",
      "« ancilla_5: ────────────────────────────────────────»\n",
      "«                                                    »\n",
      "« ancilla_6: ────────────────────────────────────────»\n",
      "«                                                    »\n",
      "« ancilla_7: ────────────────────────────────────────»\n",
      "«                                                    »\n",
      "« ancilla_8: ────────────────────────────────────────»\n",
      "«                                                    »\n",
      "« ancilla_9: ────────────────────────────────────────»\n",
      "«                                                    »\n",
      "«ancilla_10: ────────────────────────────────────────»\n",
      "«                                                    »\n",
      "«ancilla_11: ────────────────────────────────────────»\n",
      "«                                                    »\n",
      "«      cr_0: ════════════════════════════════════════»\n",
      "«                                                    »\n",
      "«      cr_1: ════════════════════════════════════════»\n",
      "«                                                    »\n",
      "«            ┌───────────────────────────┐┌───┐┌──────────────────────────┐»\n",
      "«      qr_0: ┤ U3(1.5708,-1.5708,3.1416) ├┤ X ├┤ U3(1.152,3.5903,-1.6843) ├»\n",
      "«            └──┬──────────────────────┬─┘└─┬─┘├─────────────────────────┬┘»\n",
      "«      qr_1: ───┤ U3(0.43767,1.5708,0) ├────■──┤ U3(1.6024,0.723,4.4598) ├─»\n",
      "«               └──────────────────────┘       └─────────────────────────┘ »\n",
      "« ancilla_0: ──────────────────────────────────────────────────────────────»\n",
      "«                                                                          »\n",
      "« ancilla_1: ──────────────────────────────────────────────────────────────»\n",
      "«                                                                          »\n",
      "« ancilla_2: ──────────────────────────────────────────────────────────────»\n",
      "«                                                                          »\n",
      "« ancilla_3: ──────────────────────────────────────────────────────────────»\n",
      "«                                                                          »\n",
      "« ancilla_4: ──────────────────────────────────────────────────────────────»\n",
      "«                                                                          »\n",
      "« ancilla_5: ──────────────────────────────────────────────────────────────»\n",
      "«                                                                          »\n",
      "« ancilla_6: ──────────────────────────────────────────────────────────────»\n",
      "«                                                                          »\n",
      "« ancilla_7: ──────────────────────────────────────────────────────────────»\n",
      "«                                                                          »\n",
      "« ancilla_8: ──────────────────────────────────────────────────────────────»\n",
      "«                                                                          »\n",
      "« ancilla_9: ──────────────────────────────────────────────────────────────»\n",
      "«                                                                          »\n",
      "«ancilla_10: ──────────────────────────────────────────────────────────────»\n",
      "«                                                                          »\n",
      "«ancilla_11: ──────────────────────────────────────────────────────────────»\n",
      "«                                                                          »\n",
      "«      cr_0: ══════════════════════════════════════════════════════════════»\n",
      "«                                                                          »\n",
      "«      cr_1: ══════════════════════════════════════════════════════════════»\n",
      "«                                                                          »\n",
      "«            ┌────────────────────────────┐┌───┐»\n",
      "«      qr_0: ┤ U3(1.859,0.92528,-0.82661) ├┤ X ├»\n",
      "«            └┬──────────────────────────┬┘└─┬─┘»\n",
      "«      qr_1: ─┤ U3(1.7308,1.8037,2.5976) ├───■──»\n",
      "«             └──────────────────────────┘      »\n",
      "« ancilla_0: ───────────────────────────────────»\n",
      "«                                               »\n",
      "« ancilla_1: ───────────────────────────────────»\n",
      "«                                               »\n",
      "« ancilla_2: ───────────────────────────────────»\n",
      "«                                               »\n",
      "« ancilla_3: ───────────────────────────────────»\n",
      "«                                               »\n",
      "« ancilla_4: ───────────────────────────────────»\n",
      "«                                               »\n",
      "« ancilla_5: ───────────────────────────────────»\n",
      "«                                               »\n",
      "« ancilla_6: ───────────────────────────────────»\n",
      "«                                               »\n",
      "« ancilla_7: ───────────────────────────────────»\n",
      "«                                               »\n",
      "« ancilla_8: ───────────────────────────────────»\n",
      "«                                               »\n",
      "« ancilla_9: ───────────────────────────────────»\n",
      "«                                               »\n",
      "«ancilla_10: ───────────────────────────────────»\n",
      "«                                               »\n",
      "«ancilla_11: ───────────────────────────────────»\n",
      "«                                               »\n",
      "«      cr_0: ═══════════════════════════════════»\n",
      "«                                               »\n",
      "«      cr_1: ═══════════════════════════════════»\n",
      "«                                               »\n",
      "«                 ┌──────────────────────────┐     ┌───┐»\n",
      "«      qr_0: ─────┤ U3(2.6875,1.5708,3.1416) ├─────┤ X ├»\n",
      "«            ┌────┴──────────────────────────┴────┐└─┬─┘»\n",
      "«      qr_1: ┤ U3(0.56414,-5.0761e-16,7.7168e-16) ├──■──»\n",
      "«            └────────────────────────────────────┘     »\n",
      "« ancilla_0: ───────────────────────────────────────────»\n",
      "«                                                       »\n",
      "« ancilla_1: ───────────────────────────────────────────»\n",
      "«                                                       »\n",
      "« ancilla_2: ───────────────────────────────────────────»\n",
      "«                                                       »\n",
      "« ancilla_3: ───────────────────────────────────────────»\n",
      "«                                                       »\n",
      "« ancilla_4: ───────────────────────────────────────────»\n",
      "«                                                       »\n",
      "« ancilla_5: ───────────────────────────────────────────»\n",
      "«                                                       »\n",
      "« ancilla_6: ───────────────────────────────────────────»\n",
      "«                                                       »\n",
      "« ancilla_7: ───────────────────────────────────────────»\n",
      "«                                                       »\n",
      "« ancilla_8: ───────────────────────────────────────────»\n",
      "«                                                       »\n",
      "« ancilla_9: ───────────────────────────────────────────»\n",
      "«                                                       »\n",
      "«ancilla_10: ───────────────────────────────────────────»\n",
      "«                                                       »\n",
      "«ancilla_11: ───────────────────────────────────────────»\n",
      "«                                                       »\n",
      "«      cr_0: ═══════════════════════════════════════════»\n",
      "«                                                       »\n",
      "«      cr_1: ═══════════════════════════════════════════»\n",
      "«                                                       »\n",
      "«            ┌───────────────────────────┐ ┌───┐┌───────────────────────────┐»\n",
      "«      qr_0: ┤ U3(1.5708,-1.5708,3.1416) ├─┤ X ├┤ U3(1.4725,3.1244,-2.7574) ├»\n",
      "«            ├───────────────────────────┴┐└─┬─┘├───────────────────────────┤»\n",
      "«      qr_1: ┤ U3(0.22585,-1.5708,3.1416) ├──■──┤ U3(1.1116,5.6556,0.13983) ├»\n",
      "«            └────────────────────────────┘     └───────────────────────────┘»\n",
      "« ancilla_0: ────────────────────────────────────────────────────────────────»\n",
      "«                                                                            »\n",
      "« ancilla_1: ────────────────────────────────────────────────────────────────»\n",
      "«                                                                            »\n",
      "« ancilla_2: ────────────────────────────────────────────────────────────────»\n",
      "«                                                                            »\n",
      "« ancilla_3: ────────────────────────────────────────────────────────────────»\n",
      "«                                                                            »\n",
      "« ancilla_4: ────────────────────────────────────────────────────────────────»\n",
      "«                                                                            »\n",
      "« ancilla_5: ────────────────────────────────────────────────────────────────»\n",
      "«                                                                            »\n",
      "« ancilla_6: ────────────────────────────────────────────────────────────────»\n",
      "«                                                                            »\n",
      "« ancilla_7: ────────────────────────────────────────────────────────────────»\n",
      "«                                                                            »\n",
      "« ancilla_8: ────────────────────────────────────────────────────────────────»\n",
      "«                                                                            »\n",
      "« ancilla_9: ────────────────────────────────────────────────────────────────»\n",
      "«                                                                            »\n",
      "«ancilla_10: ────────────────────────────────────────────────────────────────»\n",
      "«                                                                            »\n",
      "«ancilla_11: ────────────────────────────────────────────────────────────────»\n",
      "«                                                                            »\n",
      "«      cr_0: ════════════════════════════════════════════════════════════════»\n",
      "«                                                                            »\n",
      "«      cr_1: ════════════════════════════════════════════════════════════════»\n",
      "«                                                                            »\n",
      "«            ┌─┐   \n",
      "«      qr_0: ┤M├───\n",
      "«            └╥┘┌─┐\n",
      "«      qr_1: ─╫─┤M├\n",
      "«             ║ └╥┘\n",
      "« ancilla_0: ─╫──╫─\n",
      "«             ║  ║ \n",
      "« ancilla_1: ─╫──╫─\n",
      "«             ║  ║ \n",
      "« ancilla_2: ─╫──╫─\n",
      "«             ║  ║ \n",
      "« ancilla_3: ─╫──╫─\n",
      "«             ║  ║ \n",
      "« ancilla_4: ─╫──╫─\n",
      "«             ║  ║ \n",
      "« ancilla_5: ─╫──╫─\n",
      "«             ║  ║ \n",
      "« ancilla_6: ─╫──╫─\n",
      "«             ║  ║ \n",
      "« ancilla_7: ─╫──╫─\n",
      "«             ║  ║ \n",
      "« ancilla_8: ─╫──╫─\n",
      "«             ║  ║ \n",
      "« ancilla_9: ─╫──╫─\n",
      "«             ║  ║ \n",
      "«ancilla_10: ─╫──╫─\n",
      "«             ║  ║ \n",
      "«ancilla_11: ─╫──╫─\n",
      "«             ║  ║ \n",
      "«      cr_0: ═╩══╬═\n",
      "«                ║ \n",
      "«      cr_1: ════╩═\n",
      "«                  \n"
     ]
    }
   ],
   "source": [
    "# NOTE: These should be on qubits 4 and 5\n",
    "print(qv_circs2b[0])"
   ]
  },
  {
   "cell_type": "markdown",
   "metadata": {},
   "source": [
    "## Simulate the ideal circuits"
   ]
  },
  {
   "cell_type": "markdown",
   "metadata": {},
   "source": [
    "The quantum volume method requires that we know the ideal output for each circuit, so use the statevector simulator in Aer to get the ideal result."
   ]
  },
  {
   "cell_type": "code",
   "execution_count": 12,
   "metadata": {},
   "outputs": [
    {
     "name": "stdout",
     "output_type": "stream",
     "text": [
      "Simulating trial 0\n",
      "Simulating trial 1\n",
      "Simulating trial 2\n",
      "Simulating trial 3\n",
      "Simulating trial 4\n",
      "Simulating trial 5\n",
      "Simulating trial 6\n",
      "Simulating trial 7\n",
      "Simulating trial 8\n",
      "Simulating trial 9\n",
      "Simulating trial 10\n",
      "Simulating trial 11\n",
      "Simulating trial 12\n",
      "Simulating trial 13\n",
      "Simulating trial 14\n",
      "Simulating trial 15\n",
      "Simulating trial 16\n",
      "Simulating trial 17\n",
      "Simulating trial 18\n",
      "Simulating trial 19\n",
      "Simulating trial 20\n",
      "Simulating trial 21\n",
      "Simulating trial 22\n",
      "Simulating trial 23\n",
      "Simulating trial 24\n",
      "Simulating trial 25\n",
      "Simulating trial 26\n",
      "Simulating trial 27\n",
      "Simulating trial 28\n",
      "Simulating trial 29\n",
      "Simulating trial 30\n",
      "Simulating trial 31\n",
      "Simulating trial 32\n",
      "Simulating trial 33\n",
      "Simulating trial 34\n",
      "Simulating trial 35\n",
      "Simulating trial 36\n",
      "Simulating trial 37\n",
      "Simulating trial 38\n",
      "Simulating trial 39\n",
      "Simulating trial 40\n",
      "Simulating trial 41\n",
      "Simulating trial 42\n",
      "Simulating trial 43\n",
      "Simulating trial 44\n",
      "Simulating trial 45\n",
      "Simulating trial 46\n",
      "Simulating trial 47\n",
      "Simulating trial 48\n",
      "Simulating trial 49\n"
     ]
    }
   ],
   "source": [
    "#The Unitary is an identity (with a global phase)\n",
    "backend_sim = qiskit.Aer.get_backend('statevector_simulator')\n",
    "ideal_results = []\n",
    "for trial in range(ntrials):\n",
    "    print('Simulating trial %d'%trial)\n",
    "    if qv_opt==1:\n",
    "        ideal_results.append(qiskit.execute(qv_circs_nomeas[trial], backend=backend_sim).result())\n",
    "    else:\n",
    "        ideal_results.append(qiskit.execute(qv_circs_nomeas2[trial], backend=backend_sim).result())\n"
   ]
  },
  {
   "cell_type": "markdown",
   "metadata": {},
   "source": [
    "Next, load the ideal results into a quantum volume fitter"
   ]
  },
  {
   "cell_type": "code",
   "execution_count": 13,
   "metadata": {},
   "outputs": [],
   "source": [
    "qv_fitter = qv.QVFitter(qubit_lists=qubit_lists)\n",
    "qv_fitter.add_statevectors(ideal_results)"
   ]
  },
  {
   "cell_type": "markdown",
   "metadata": {},
   "source": [
    "## Define the noise model"
   ]
  },
  {
   "cell_type": "markdown",
   "metadata": {},
   "source": [
    "We define a noise model for the simulator using the noise model from the device."
   ]
  },
  {
   "cell_type": "code",
   "execution_count": 14,
   "metadata": {},
   "outputs": [],
   "source": [
    "noise_model = noise.device.basic_device_noise_model(backend.properties())\n",
    "basis_gates = noise_model.basis_gates\n",
    "\n",
    "#For option 2 circuits we can do the noise simulation and transpiling by reducing the \n",
    "#coupling map and noise model down to the first n qubits\n",
    "red_cmap = CouplingMap(backend.configuration().coupling_map).reduce(qubit_lists[-1])\n",
    "red_noise_model = noise.utils.remap_noise_model(noise_model,\n",
    "                                                remapping=qubit_lists[-1],\n",
    "                                                discard_qubits=True)\n",
    "if qv_opt==2:\n",
    "    noise_model=red_noise_model"
   ]
  },
  {
   "cell_type": "markdown",
   "metadata": {},
   "source": [
    "## Execute on Aer simulator\n",
    "\n",
    "We can execute the QV sequences either using Qiskit Aer Simulator (with some noise model) or using IBMQ provider, \n",
    "and obtain a list of results **result_list**."
   ]
  },
  {
   "cell_type": "code",
   "execution_count": 15,
   "metadata": {},
   "outputs": [
    {
     "name": "stdout",
     "output_type": "stream",
     "text": [
      "Running trial 0\n",
      "Running trial 1\n",
      "Running trial 2\n",
      "Running trial 3\n",
      "Running trial 4\n",
      "Running trial 5\n",
      "Running trial 6\n",
      "Running trial 7\n",
      "Running trial 8\n",
      "Running trial 9\n",
      "Running trial 10\n",
      "Running trial 11\n",
      "Running trial 12\n",
      "Running trial 13\n",
      "Running trial 14\n",
      "Running trial 15\n",
      "Running trial 16\n",
      "Running trial 17\n",
      "Running trial 18\n",
      "Running trial 19\n",
      "Running trial 20\n",
      "Running trial 21\n",
      "Running trial 22\n",
      "Running trial 23\n",
      "Running trial 24\n",
      "Running trial 25\n",
      "Running trial 26\n",
      "Running trial 27\n",
      "Running trial 28\n",
      "Running trial 29\n",
      "Running trial 30\n",
      "Running trial 31\n",
      "Running trial 32\n",
      "Running trial 33\n",
      "Running trial 34\n",
      "Running trial 35\n",
      "Running trial 36\n",
      "Running trial 37\n",
      "Running trial 38\n",
      "Running trial 39\n",
      "Running trial 40\n",
      "Running trial 41\n",
      "Running trial 42\n",
      "Running trial 43\n",
      "Running trial 44\n",
      "Running trial 45\n",
      "Running trial 46\n",
      "Running trial 47\n",
      "Running trial 48\n",
      "Running trial 49\n"
     ]
    }
   ],
   "source": [
    "backend_sim = qiskit.Aer.get_backend('qasm_simulator')\n",
    "basis_gates = ['u1','u2','u3','cx'] # use U,CX for now\n",
    "shots = 1024\n",
    "exp_results = []\n",
    "for trial in range(len(qv_circs)):\n",
    "    print('Running trial %d'%trial)\n",
    "    #we need to transpile the qubits for the device\n",
    "    if qv_opt==1:\n",
    "        qv_circs[trial] = qiskit.compiler.transpile(qv_circs[trial], basis_gates=basis_gates,\n",
    "                                               backend=backend)\n",
    "    else:\n",
    "        #if option 2 use the reduced coupling map\n",
    "        #but no backend\n",
    "        qv_circs[trial] = qiskit.compiler.transpile(qv_circs2[trial], basis_gates=basis_gates,\n",
    "                                               coupling_map=red_cmap)\n",
    "    \n",
    "    \n",
    "    exp_results.append(qiskit.execute(qv_circs[trial], \n",
    "                                      basis_gates=basis_gates, \n",
    "                                      backend=backend_sim, \n",
    "                                      noise_model=noise_model, \n",
    "                                      backend_options={'max_parallel_experiments': 0}).result())"
   ]
  },
  {
   "cell_type": "markdown",
   "metadata": {},
   "source": [
    "Load the experimental data into the fitter. The data will keep accumulating if this is re-run (unless the fitter is re-instantiated)."
   ]
  },
  {
   "cell_type": "code",
   "execution_count": 16,
   "metadata": {},
   "outputs": [],
   "source": [
    "qv_fitter.add_data(exp_results)"
   ]
  },
  {
   "cell_type": "code",
   "execution_count": 17,
   "metadata": {},
   "outputs": [
    {
     "data": {
      "image/png": "[encoded data removed]",
      "text/plain": [
       "<Figure size 720x432 with 1 Axes>"
      ]
     },
     "metadata": {
      "needs_background": "light"
     },
     "output_type": "display_data"
    }
   ],
   "source": [
    "plt.figure(figsize=(10, 6))\n",
    "ax = plt.gca()\n",
    "\n",
    "# Plot the essence by calling plot_rb_data\n",
    "qv_fitter.plot_qv_data(ax=ax, show_plt=False)\n",
    "\n",
    "# Add title and label\n",
    "ax.set_title('Quantum Volume for up to %d Qubits \\n and %d Trials'%(len(qubit_lists[-1]), ntrials), fontsize=18)\n",
    "\n",
    "plt.show()"
   ]
  },
  {
   "cell_type": "markdown",
   "metadata": {},
   "source": [
    "## Quantum Volume\n",
    "List statistics for each depth. For each depth list if the depth was successful or not and with what confidence interval. For a depth to be sucessful the confidence interval must be > 97.5%."
   ]
  },
  {
   "cell_type": "code",
   "execution_count": 18,
   "metadata": {},
   "outputs": [
    {
     "name": "stdout",
     "output_type": "stream",
     "text": [
      "Width/depth 2 less than 2/3 (unsuccessful).\n",
      "Width/depth 3 less than 2/3 (unsuccessful).\n",
      "Width/depth 4 less than 2/3 (unsuccessful).\n",
      "Width/depth 5 less than 2/3 (unsuccessful).\n",
      "Width/depth 6 less than 2/3 (unsuccessful).\n"
     ]
    }
   ],
   "source": [
    "qv_success_list = qv_fitter.qv_success()\n",
    "qv_list = qv_fitter.ydata\n",
    "for qidx, qubit_list in enumerate(qubit_lists):\n",
    "    if qv_list[0][qidx]>2/3:\n",
    "        if qv_success_list[qidx][0]:\n",
    "            print(\"Width/depth %d greater than 2/3 (%f) with confidence %f (successful). Quantum volume %d\"%\n",
    "                  (len(qubit_list),qv_list[0][qidx],qv_success_list[qidx][1],qv_fitter.quantum_volume()[qidx]))\n",
    "        else:\n",
    "            print(\"Width/depth %d greater than 2/3 (%f) with confidence %f (unsuccessful).\"%\n",
    "                  (len(qubit_list),qv_list[0][qidx],qv_success_list[qidx][1]))\n",
    "    else:\n",
    "        print(\"Width/depth %d less than 2/3 (unsuccessful).\"%len(qubit_list))"
   ]
  },
  {
   "cell_type": "code",
   "execution_count": null,
   "metadata": {},
   "outputs": [],
   "source": []
  }
 ],
 "metadata": {
  "kernelspec": {
   "display_name": "Python 3",
   "language": "python",
   "name": "python3"
  },
  "language_info": {
   "codemirror_mode": {
    "name": "ipython",
    "version": 3
   },
   "file_extension": ".py",
   "mimetype": "text/x-python",
   "name": "python",
   "nbconvert_exporter": "python",
   "pygments_lexer": "ipython3",
   "version": "3.6.8"
  }
 },
 "nbformat": 4,
 "nbformat_minor": 2
}
